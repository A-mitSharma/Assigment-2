{
 "cells": [
  {
   "cell_type": "code",
   "execution_count": 2,
   "metadata": {},
   "outputs": [],
   "source": [
    "'''Write a Python Program to implement your own myreduce() function which works exactly like\n",
    "Python's built-in function reduce()'''\n",
    "\n",
    "lst = [2,3,4,5,6]\n",
    "\n",
    "def myreduce(func, iterable, start=None):  #reduce function always take 2 argument by default 3rd argument start = None\n",
    "    it = iter(iterable)  #first whatever sequence/iterable will pass ..it will start iterating through iter() function and store value in it variable\n",
    "    if start is None:  # if start is None \n",
    "        try:\n",
    "            start = next(it)   # then first element of sequence will the value of start\n",
    "        except StopIteration:\n",
    "            raise TypeError('reduce() of empty sequence with no initial value')  # else the sequence that is provided is empty\n",
    "    accum_value = start\n",
    "    for x in iterable:\n",
    "        accum_value = func(accum_value, x)\n",
    "    return accum_value"
   ]
  },
  {
   "cell_type": "code",
   "execution_count": 4,
   "metadata": {},
   "outputs": [
    {
     "data": {
      "text/plain": [
       "22"
      ]
     },
     "execution_count": 4,
     "metadata": {},
     "output_type": "execute_result"
    }
   ],
   "source": [
    "myreduce(lambda x,y:x+y, lst)"
   ]
  },
  {
   "cell_type": "code",
   "execution_count": 8,
   "metadata": {},
   "outputs": [],
   "source": [
    "'''\n",
    "Write a Python program to implement your own myfilter() function which works exactly like\n",
    "Python's built-in function filter()'''\n",
    "\n",
    "def my_filter(func,sequence):\n",
    "    res=[]\n",
    "    for variable in sequence :\n",
    "        if func(variable):\n",
    "            res.append(variable)\n",
    "    return res\n",
    "\n",
    "def is_even(item):\n",
    "    if item%2==0 :\n",
    "        return True\n",
    "    else :\n",
    "        return False\n",
    "\n",
    "    \n",
    "lst= [1,2,3,4,5,6,7,8,9]"
   ]
  },
  {
   "cell_type": "code",
   "execution_count": 14,
   "metadata": {},
   "outputs": [
    {
     "data": {
      "text/plain": [
       "[2, 4, 6, 8]"
      ]
     },
     "execution_count": 14,
     "metadata": {},
     "output_type": "execute_result"
    }
   ],
   "source": [
    "my_filter(is_even,lst)"
   ]
  },
  {
   "cell_type": "markdown",
   "metadata": {},
   "source": [
    "Implement List comprehensions to produce the following lists.\n",
    "Write List comprehensions to produce the following Lists\n",
    "['A', 'C', 'A', 'D', 'G', 'I', ’L’, ‘ D’]\n",
    "['x', 'xx', 'xxx', 'xxxx', 'y', 'yy', 'yyy', 'yyyy', 'z', 'zz', 'zzz', 'zzzz']\n",
    "['x', 'y', 'z', 'xx', 'yy', 'zz', 'xx', 'yy', 'zz', 'xxxx', 'yyyy', 'zzzz']\n",
    "[[2], [3], [4], [3], [4], [5], [4], [5], [6]]\n",
    "[[2, 3, 4, 5], [3, 4, 5, 6], [4, 5, 6, 7], [5, 6, 7, 8]]\n",
    "[(1, 1), (2, 1), (3, 1), (1, 2), (2, 2), (3, 2), (1, 3), (2, 3), (3, 3)]"
   ]
  },
  {
   "cell_type": "code",
   "execution_count": 57,
   "metadata": {},
   "outputs": [
    {
     "data": {
      "text/plain": [
       "['A', 'C', 'A', 'D', 'G', 'I', 'L', 'D']"
      ]
     },
     "execution_count": 57,
     "metadata": {},
     "output_type": "execute_result"
    }
   ],
   "source": [
    "l = 'ACADGILD'\n",
    "[i for i in l]"
   ]
  },
  {
   "cell_type": "code",
   "execution_count": 72,
   "metadata": {},
   "outputs": [
    {
     "data": {
      "text/plain": [
       "['x', 'xx', 'xxx', 'xxxx', 'y', 'yy', 'yyy', 'yyyy', 'z', 'zz', 'zzz', 'zzzz']"
      ]
     },
     "execution_count": 72,
     "metadata": {},
     "output_type": "execute_result"
    }
   ],
   "source": [
    "l = 'x y z'\n",
    "l = l.split()\n",
    "l\n",
    "[(i*j) for i in l for j in range(1,5)]"
   ]
  },
  {
   "cell_type": "code",
   "execution_count": 76,
   "metadata": {},
   "outputs": [
    {
     "data": {
      "text/plain": [
       "['x', 'y', 'z', 'xx', 'yy', 'zz', 'xx', 'yy', 'zz', 'xxxx', 'yyyy', 'zzzz']"
      ]
     },
     "execution_count": 76,
     "metadata": {},
     "output_type": "execute_result"
    }
   ],
   "source": [
    "l = ['x','y','z']\n",
    "[k*j*i for i in range(1,3) for j in range(1,3) for k in l]"
   ]
  },
  {
   "cell_type": "code",
   "execution_count": 77,
   "metadata": {},
   "outputs": [
    {
     "data": {
      "text/plain": [
       "[[2], [3], [4], [3], [4], [5], [4], [5], [6]]"
      ]
     },
     "execution_count": 77,
     "metadata": {},
     "output_type": "execute_result"
    }
   ],
   "source": [
    "l = [2,3,4]\n",
    "[[i+j] for i in l for j in range(0,3)]"
   ]
  },
  {
   "cell_type": "code",
   "execution_count": 78,
   "metadata": {},
   "outputs": [
    {
     "data": {
      "text/plain": [
       "[[2, 3, 4, 5], [3, 4, 5, 6], [4, 5, 6, 7], [5, 6, 7, 8]]"
      ]
     },
     "execution_count": 78,
     "metadata": {},
     "output_type": "execute_result"
    }
   ],
   "source": [
    "l = [2,3,4,5]\n",
    "[[i+j for i in l] for j in range(0,4)]"
   ]
  },
  {
   "cell_type": "code",
   "execution_count": 13,
   "metadata": {},
   "outputs": [
    {
     "data": {
      "text/plain": [
       "[(1, 1), (2, 1), (3, 1), (1, 2), (2, 2), (3, 2), (1, 3), (2, 3), (3, 3)]"
      ]
     },
     "execution_count": 13,
     "metadata": {},
     "output_type": "execute_result"
    }
   ],
   "source": [
    "l = [1,2,3]\n",
    "[(j,i) for i in l for j in l]\n",
    "#([[[i+j] for i in l for j in range(0,3)]])"
   ]
  },
  {
   "cell_type": "markdown",
   "metadata": {},
   "source": [
    "Implement a function longestWord() that takes a list of words and returns the longest one."
   ]
  },
  {
   "cell_type": "code",
   "execution_count": 12,
   "metadata": {},
   "outputs": [
    {
     "name": "stdout",
     "output_type": "stream",
     "text": [
      "Longest Word ('This', 'is', 'Beautiful', 'Morning', 'Hello World') => Hello World\n"
     ]
    }
   ],
   "source": [
    "from functools import reduce\n",
    "listwords = (\"This\",\"is\",\"Beautiful\",\"Morning\",\"Hello World\")\n",
    "# Funtion to compare and reduce list to the result\n",
    "def longestWord(listwords):\n",
    "    return reduce((lambda x,y:y if len(y) > len(x) else x), listwords)\n",
    "print(\"Longest Word {} => {}\".format(listwords, longestWord(listwords)))"
   ]
  },
  {
   "cell_type": "markdown",
   "metadata": {},
   "source": [
    "1.1 Write a Python Program(with class concepts) to find the area of the triangle using the below\n",
    "formula.\n",
    "area = (s*(s-a)*(s-b)*(s-c)) ** 0.5\n",
    "Function to take the length of the sides of triangle from user should be defined in the parent\n",
    "class and function to calculate the area should be defined in subclass."
   ]
  },
  {
   "cell_type": "code",
   "execution_count": 11,
   "metadata": {},
   "outputs": [
    {
     "name": "stdout",
     "output_type": "stream",
     "text": [
      "8.5\n"
     ]
    }
   ],
   "source": [
    "class Triangle:\n",
    "    def __init__(self, side1, side2, side3):\n",
    "        self.side1 = side1\n",
    "        self.side2 = side2\n",
    "        self.side3 = side3\n",
    "        \n",
    "    def __str__(self):\n",
    "        return \"Side1: %d Side2: %d and Side3: %d\" % (self.side1,self.side2,self.side3)\n",
    "        \n",
    "class sub_triangle(Triangle):\n",
    "    def __init__(self, *args):\n",
    "        super(sub_triangle, self).__init__( *args)\n",
    "        \n",
    "    def get_area(self):\n",
    "        s = (self.side1 + self.side2 + self.side3)/2\n",
    "        print(s)\n",
    "        return (s*(s-self.side1)*(s-self.side2)*(s-self.side3))**0.5\n",
    "    \n",
    "value = sub_triangle(3,9,5)\n",
    "area= value.get_area()\n"
   ]
  },
  {
   "cell_type": "markdown",
   "metadata": {},
   "source": [
    "1.2 Write a function filter_long_words() that takes a list of words and an integer n and returns the list\n",
    "of words that are longer than n."
   ]
  },
  {
   "cell_type": "code",
   "execution_count": 22,
   "metadata": {},
   "outputs": [
    {
     "name": "stdout",
     "output_type": "stream",
     "text": [
      "AmitKumar\n",
      "Sudhanshu\n"
     ]
    }
   ],
   "source": [
    "list  = ['AmitKumar','Deepu','Jiwitesh','Sudhanshu','Rakesh']\n",
    "\n",
    "def longest_word(lst,n):\n",
    "    for i in list:\n",
    "        if len(i)>n:\n",
    "            print(i)\n",
    "            \n",
    "longest_word(list,8)"
   ]
  },
  {
   "cell_type": "markdown",
   "metadata": {},
   "source": [
    "Write a Python program using function concept that maps list of words into a list of integers\n",
    "representing the lengths of the corresponding words .\n",
    "Hint: If a list [ ab,cde,erty] is passed on to the python function output should come as [2,3,4]\n",
    "Here 2,3 and 4 are the lengths of the words in the list."
   ]
  },
  {
   "cell_type": "code",
   "execution_count": 24,
   "metadata": {},
   "outputs": [
    {
     "name": "stdout",
     "output_type": "stream",
     "text": [
      "5,4,3,"
     ]
    }
   ],
   "source": [
    "list = ['abdfg','ggsh','qwe']\n",
    "for i in list:\n",
    "    print(len(i),end=\",\")"
   ]
  },
  {
   "cell_type": "code",
   "execution_count": null,
   "metadata": {},
   "outputs": [],
   "source": []
  }
 ],
 "metadata": {
  "kernelspec": {
   "display_name": "Python 3",
   "language": "python",
   "name": "python3"
  },
  "language_info": {
   "codemirror_mode": {
    "name": "ipython",
    "version": 3
   },
   "file_extension": ".py",
   "mimetype": "text/x-python",
   "name": "python",
   "nbconvert_exporter": "python",
   "pygments_lexer": "ipython3",
   "version": "3.7.6"
  }
 },
 "nbformat": 4,
 "nbformat_minor": 4
}
